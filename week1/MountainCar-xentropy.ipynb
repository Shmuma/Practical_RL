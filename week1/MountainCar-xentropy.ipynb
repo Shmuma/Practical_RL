{
 "cells": [
  {
   "cell_type": "code",
   "execution_count": 1,
   "metadata": {
    "collapsed": true
   },
   "outputs": [],
   "source": [
    "import gym\n",
    "import gym.wrappers\n",
    "import numpy as np\n",
    "import logging\n",
    "import joblib\n",
    "import threading\n",
    "import matplotlib.pylab as pl\n",
    "%matplotlib inline\n",
    "\n",
    "from tqdm import tqdm_notebook as tqdm"
   ]
  },
  {
   "cell_type": "code",
   "execution_count": 2,
   "metadata": {},
   "outputs": [
    {
     "name": "stdout",
     "output_type": "stream",
     "text": [
      "n_actions=3\n"
     ]
    }
   ],
   "source": [
    "max_steps = 10000\n",
    "gym.logger.setLevel(logging.ERROR)\n",
    "env = gym.make(\"MountainCar-v0\")\n",
    "if isinstance(env, gym.wrappers.TimeLimit):\n",
    "    env._max_episode_steps = max_steps\n",
    "monitor_mode = True\n",
    "env = gym.wrappers.Monitor(env, \"mountaincar-res\")\n",
    "\n",
    "n_actions = env.action_space.n\n",
    "\n",
    "print(\"n_actions=%i\" % (n_actions))"
   ]
  },
  {
   "cell_type": "code",
   "execution_count": 3,
   "metadata": {},
   "outputs": [
    {
     "name": "stderr",
     "output_type": "stream",
     "text": [
      "/home/shmuma/sfw/anaconda/envs/pract_rl/lib/python3.5/site-packages/sklearn/neural_network/multilayer_perceptron.py:563: ConvergenceWarning: Stochastic Optimizer: Maximum iterations reached and the optimization hasn't converged yet.\n",
      "  % (), ConvergenceWarning)\n"
     ]
    }
   ],
   "source": [
    "from sklearn.neural_network import MLPClassifier\n",
    "agent = MLPClassifier(hidden_layer_sizes=(40,40),\n",
    "                      activation='tanh',\n",
    "                      warm_start=True, #keep progress between .fit(...) calls\n",
    "                      max_iter=1 #make only 1 iteration on each .fit(...)\n",
    "                     )\n",
    "#initialize agent to the dimension of state an amount of actions\n",
    "agent.fit([env.reset()]*n_actions,range(n_actions));"
   ]
  },
  {
   "cell_type": "code",
   "execution_count": 10,
   "metadata": {},
   "outputs": [],
   "source": [
    "def generate_session(t_max=max_steps+1):\n",
    "    if not monitor_mode:\n",
    "        loc_data = threading.local()\n",
    "        if not hasattr(loc_data, \"env\"):\n",
    "            loc_data.env = gym.make(\"MountainCar-v0\")\n",
    "            if isinstance(loc_data.env, gym.wrappers.TimeLimit):\n",
    "                loc_data.env._max_episode_steps = t_max-1\n",
    "        e = loc_data.env\n",
    "    else:\n",
    "        global env\n",
    "        e = env\n",
    "    \n",
    "    states, actions = [], []\n",
    "    total_reward = 0\n",
    "    s = e.reset()\n",
    "    \n",
    "    for _ in range(t_max):\n",
    "        probs = agent.predict_proba([s])[0]\n",
    "        a = np.random.choice(n_actions, p=probs)\n",
    "        new_s, r, done, _ = e.step(a)\n",
    "        states.append(s)\n",
    "        actions.append(a)\n",
    "        total_reward += r\n",
    "        s = new_s\n",
    "        if done:\n",
    "            break\n",
    "            \n",
    "    return states, actions, total_reward"
   ]
  },
  {
   "cell_type": "code",
   "execution_count": 11,
   "metadata": {
    "collapsed": true
   },
   "outputs": [],
   "source": [
    "n_jobs = 4\n",
    "n_samples = 250\n",
    "percentile = 40\n",
    "rewards = []\n",
    "thresholds = []\n",
    "finetune_mode = False"
   ]
  },
  {
   "cell_type": "code",
   "execution_count": 17,
   "metadata": {},
   "outputs": [
    {
     "name": "stdout",
     "output_type": "stream",
     "text": [
      "0: mean reward = -111.27600 (max: -83.000000)\tthreshold = -103.0\n",
      "1: mean reward = -109.26400 (max: -83.000000)\tthreshold = -103.0\n",
      "2: mean reward = -108.72200 (max: -83.000000)\tthreshold = -103.0\n",
      "3: mean reward = -108.51000 (max: -83.000000)\tthreshold = -103.0\n",
      "4: mean reward = -106.81000 (max: -83.000000)\tthreshold = -102.0\n",
      "5: mean reward = -104.58800 (max: -83.000000)\tthreshold = -100.8\n",
      "6: mean reward = -105.60600 (max: -83.000000)\tthreshold = -102.0\n",
      "7: mean reward = -106.29600 (max: -83.000000)\tthreshold = -103.0\n",
      "8: mean reward = -107.68200 (max: -83.000000)\tthreshold = -102.0\n",
      "9: mean reward = -106.22400 (max: -83.000000)\tthreshold = -102.0\n",
      "10: mean reward = -105.51000 (max: -83.000000)\tthreshold = -100.8\n",
      "11: mean reward = -105.98200 (max: -83.000000)\tthreshold = -101.8\n",
      "12: mean reward = -105.35400 (max: -83.000000)\tthreshold = -99.0\n",
      "13: mean reward = -106.98400 (max: -83.000000)\tthreshold = -98.8\n",
      "14: mean reward = -110.70400 (max: -83.000000)\tthreshold = -102.0\n",
      "15: mean reward = -109.88800 (max: -83.000000)\tthreshold = -96.0\n",
      "16: mean reward = -110.03600 (max: -83.000000)\tthreshold = -99.8\n",
      "17: mean reward = -113.22000 (max: -83.000000)\tthreshold = -103.0\n",
      "18: mean reward = -109.70600 (max: -83.000000)\tthreshold = -95.0\n",
      "19: mean reward = -113.02800 (max: -83.000000)\tthreshold = -96.0\n",
      "20: mean reward = -109.79000 (max: -83.000000)\tthreshold = -91.8\n",
      "21: mean reward = -110.01800 (max: -83.000000)\tthreshold = -91.0\n",
      "22: mean reward = -111.90200 (max: -83.000000)\tthreshold = -95.0\n",
      "23: mean reward = -112.38200 (max: -83.000000)\tthreshold = -93.0\n",
      "24: mean reward = -114.10000 (max: -83.000000)\tthreshold = -93.0\n",
      "25: mean reward = -113.73800 (max: -83.000000)\tthreshold = -93.0\n",
      "26: mean reward = -113.72400 (max: -83.000000)\tthreshold = -93.0\n",
      "27: mean reward = -113.80000 (max: -83.000000)\tthreshold = -93.8\n",
      "28: mean reward = -111.72400 (max: -83.000000)\tthreshold = -90.0\n",
      "29: mean reward = -113.80400 (max: -83.000000)\tthreshold = -94.0\n",
      "30: mean reward = -114.66800 (max: -83.000000)\tthreshold = -91.8\n",
      "31: mean reward = -114.61200 (max: -83.000000)\tthreshold = -91.0\n",
      "32: mean reward = -116.30600 (max: -83.000000)\tthreshold = -93.0\n",
      "33: mean reward = -116.63800 (max: -83.000000)\tthreshold = -90.0\n",
      "34: mean reward = -117.40400 (max: -83.000000)\tthreshold = -95.0\n",
      "35: mean reward = -116.12000 (max: -83.000000)\tthreshold = -91.0\n",
      "36: mean reward = -113.71200 (max: -83.000000)\tthreshold = -91.0\n",
      "37: mean reward = -117.34200 (max: -83.000000)\tthreshold = -92.0\n",
      "38: mean reward = -118.91200 (max: -83.000000)\tthreshold = -92.0\n",
      "39: mean reward = -120.52000 (max: -83.000000)\tthreshold = -93.0\n",
      "40: mean reward = -116.11200 (max: -83.000000)\tthreshold = -92.0\n",
      "41: mean reward = -117.30000 (max: -83.000000)\tthreshold = -91.0\n",
      "42: mean reward = -115.39800 (max: -83.000000)\tthreshold = -92.0\n",
      "43: mean reward = -114.49000 (max: -83.000000)\tthreshold = -91.0\n",
      "44: mean reward = -119.44400 (max: -83.000000)\tthreshold = -95.0\n",
      "45: mean reward = -113.68200 (max: -83.000000)\tthreshold = -90.8\n",
      "46: mean reward = -117.42800 (max: -83.000000)\tthreshold = -95.0\n",
      "47: mean reward = -115.53400 (max: -83.000000)\tthreshold = -93.0\n"
     ]
    },
    {
     "ename": "KeyboardInterrupt",
     "evalue": "",
     "output_type": "error",
     "traceback": [
      "\u001b[0;31m---------------------------------------------------------------------------\u001b[0m",
      "\u001b[0;31mKeyboardInterrupt\u001b[0m                         Traceback (most recent call last)",
      "\u001b[0;32m<ipython-input-17-931711ee0883>\u001b[0m in \u001b[0;36m<module>\u001b[0;34m()\u001b[0m\n\u001b[1;32m      2\u001b[0m     \u001b[0;31m#%time\u001b[0m\u001b[0;34m\u001b[0m\u001b[0;34m\u001b[0m\u001b[0m\n\u001b[1;32m      3\u001b[0m     \u001b[0;32mif\u001b[0m \u001b[0mmonitor_mode\u001b[0m\u001b[0;34m:\u001b[0m\u001b[0;34m\u001b[0m\u001b[0m\n\u001b[0;32m----> 4\u001b[0;31m         \u001b[0msessions\u001b[0m \u001b[0;34m=\u001b[0m \u001b[0;34m[\u001b[0m\u001b[0mgenerate_session\u001b[0m\u001b[0;34m(\u001b[0m\u001b[0;34m)\u001b[0m \u001b[0;32mfor\u001b[0m \u001b[0m_\u001b[0m \u001b[0;32min\u001b[0m \u001b[0mrange\u001b[0m\u001b[0;34m(\u001b[0m\u001b[0mn_samples\u001b[0m\u001b[0;34m)\u001b[0m\u001b[0;34m]\u001b[0m\u001b[0;34m\u001b[0m\u001b[0m\n\u001b[0m\u001b[1;32m      5\u001b[0m     \u001b[0;32melse\u001b[0m\u001b[0;34m:\u001b[0m\u001b[0;34m\u001b[0m\u001b[0m\n\u001b[1;32m      6\u001b[0m         \u001b[0msessions\u001b[0m \u001b[0;34m=\u001b[0m \u001b[0mjoblib\u001b[0m\u001b[0;34m.\u001b[0m\u001b[0mParallel\u001b[0m\u001b[0;34m(\u001b[0m\u001b[0mn_jobs\u001b[0m\u001b[0;34m)\u001b[0m\u001b[0;34m(\u001b[0m\u001b[0mjoblib\u001b[0m\u001b[0;34m.\u001b[0m\u001b[0mdelayed\u001b[0m\u001b[0;34m(\u001b[0m\u001b[0mgenerate_session\u001b[0m\u001b[0;34m)\u001b[0m\u001b[0;34m(\u001b[0m\u001b[0;34m)\u001b[0m \u001b[0;32mfor\u001b[0m \u001b[0m_\u001b[0m \u001b[0;32min\u001b[0m \u001b[0mrange\u001b[0m\u001b[0;34m(\u001b[0m\u001b[0mn_samples\u001b[0m\u001b[0;34m)\u001b[0m\u001b[0;34m)\u001b[0m\u001b[0;34m\u001b[0m\u001b[0m\n",
      "\u001b[0;32m<ipython-input-17-931711ee0883>\u001b[0m in \u001b[0;36m<listcomp>\u001b[0;34m(.0)\u001b[0m\n\u001b[1;32m      2\u001b[0m     \u001b[0;31m#%time\u001b[0m\u001b[0;34m\u001b[0m\u001b[0;34m\u001b[0m\u001b[0m\n\u001b[1;32m      3\u001b[0m     \u001b[0;32mif\u001b[0m \u001b[0mmonitor_mode\u001b[0m\u001b[0;34m:\u001b[0m\u001b[0;34m\u001b[0m\u001b[0m\n\u001b[0;32m----> 4\u001b[0;31m         \u001b[0msessions\u001b[0m \u001b[0;34m=\u001b[0m \u001b[0;34m[\u001b[0m\u001b[0mgenerate_session\u001b[0m\u001b[0;34m(\u001b[0m\u001b[0;34m)\u001b[0m \u001b[0;32mfor\u001b[0m \u001b[0m_\u001b[0m \u001b[0;32min\u001b[0m \u001b[0mrange\u001b[0m\u001b[0;34m(\u001b[0m\u001b[0mn_samples\u001b[0m\u001b[0;34m)\u001b[0m\u001b[0;34m]\u001b[0m\u001b[0;34m\u001b[0m\u001b[0m\n\u001b[0m\u001b[1;32m      5\u001b[0m     \u001b[0;32melse\u001b[0m\u001b[0;34m:\u001b[0m\u001b[0;34m\u001b[0m\u001b[0m\n\u001b[1;32m      6\u001b[0m         \u001b[0msessions\u001b[0m \u001b[0;34m=\u001b[0m \u001b[0mjoblib\u001b[0m\u001b[0;34m.\u001b[0m\u001b[0mParallel\u001b[0m\u001b[0;34m(\u001b[0m\u001b[0mn_jobs\u001b[0m\u001b[0;34m)\u001b[0m\u001b[0;34m(\u001b[0m\u001b[0mjoblib\u001b[0m\u001b[0;34m.\u001b[0m\u001b[0mdelayed\u001b[0m\u001b[0;34m(\u001b[0m\u001b[0mgenerate_session\u001b[0m\u001b[0;34m)\u001b[0m\u001b[0;34m(\u001b[0m\u001b[0;34m)\u001b[0m \u001b[0;32mfor\u001b[0m \u001b[0m_\u001b[0m \u001b[0;32min\u001b[0m \u001b[0mrange\u001b[0m\u001b[0;34m(\u001b[0m\u001b[0mn_samples\u001b[0m\u001b[0;34m)\u001b[0m\u001b[0;34m)\u001b[0m\u001b[0;34m\u001b[0m\u001b[0m\n",
      "\u001b[0;32m<ipython-input-10-acb328608f6b>\u001b[0m in \u001b[0;36mgenerate_session\u001b[0;34m(t_max)\u001b[0m\n\u001b[1;32m     16\u001b[0m \u001b[0;34m\u001b[0m\u001b[0m\n\u001b[1;32m     17\u001b[0m     \u001b[0;32mfor\u001b[0m \u001b[0m_\u001b[0m \u001b[0;32min\u001b[0m \u001b[0mrange\u001b[0m\u001b[0;34m(\u001b[0m\u001b[0mt_max\u001b[0m\u001b[0;34m)\u001b[0m\u001b[0;34m:\u001b[0m\u001b[0;34m\u001b[0m\u001b[0m\n\u001b[0;32m---> 18\u001b[0;31m         \u001b[0mprobs\u001b[0m \u001b[0;34m=\u001b[0m \u001b[0magent\u001b[0m\u001b[0;34m.\u001b[0m\u001b[0mpredict_proba\u001b[0m\u001b[0;34m(\u001b[0m\u001b[0;34m[\u001b[0m\u001b[0ms\u001b[0m\u001b[0;34m]\u001b[0m\u001b[0;34m)\u001b[0m\u001b[0;34m[\u001b[0m\u001b[0;36m0\u001b[0m\u001b[0;34m]\u001b[0m\u001b[0;34m\u001b[0m\u001b[0m\n\u001b[0m\u001b[1;32m     19\u001b[0m         \u001b[0ma\u001b[0m \u001b[0;34m=\u001b[0m \u001b[0mnp\u001b[0m\u001b[0;34m.\u001b[0m\u001b[0mrandom\u001b[0m\u001b[0;34m.\u001b[0m\u001b[0mchoice\u001b[0m\u001b[0;34m(\u001b[0m\u001b[0mn_actions\u001b[0m\u001b[0;34m,\u001b[0m \u001b[0mp\u001b[0m\u001b[0;34m=\u001b[0m\u001b[0mprobs\u001b[0m\u001b[0;34m)\u001b[0m\u001b[0;34m\u001b[0m\u001b[0m\n\u001b[1;32m     20\u001b[0m         \u001b[0mnew_s\u001b[0m\u001b[0;34m,\u001b[0m \u001b[0mr\u001b[0m\u001b[0;34m,\u001b[0m \u001b[0mdone\u001b[0m\u001b[0;34m,\u001b[0m \u001b[0m_\u001b[0m \u001b[0;34m=\u001b[0m \u001b[0me\u001b[0m\u001b[0;34m.\u001b[0m\u001b[0mstep\u001b[0m\u001b[0;34m(\u001b[0m\u001b[0ma\u001b[0m\u001b[0;34m)\u001b[0m\u001b[0;34m\u001b[0m\u001b[0m\n",
      "\u001b[0;32m/home/shmuma/sfw/anaconda/envs/pract_rl/lib/python3.5/site-packages/sklearn/neural_network/multilayer_perceptron.py\u001b[0m in \u001b[0;36mpredict_proba\u001b[0;34m(self, X)\u001b[0m\n\u001b[1;32m   1014\u001b[0m         \"\"\"\n\u001b[1;32m   1015\u001b[0m         \u001b[0mcheck_is_fitted\u001b[0m\u001b[0;34m(\u001b[0m\u001b[0mself\u001b[0m\u001b[0;34m,\u001b[0m \u001b[0;34m\"coefs_\"\u001b[0m\u001b[0;34m)\u001b[0m\u001b[0;34m\u001b[0m\u001b[0m\n\u001b[0;32m-> 1016\u001b[0;31m         \u001b[0my_pred\u001b[0m \u001b[0;34m=\u001b[0m \u001b[0mself\u001b[0m\u001b[0;34m.\u001b[0m\u001b[0m_predict\u001b[0m\u001b[0;34m(\u001b[0m\u001b[0mX\u001b[0m\u001b[0;34m)\u001b[0m\u001b[0;34m\u001b[0m\u001b[0m\n\u001b[0m\u001b[1;32m   1017\u001b[0m \u001b[0;34m\u001b[0m\u001b[0m\n\u001b[1;32m   1018\u001b[0m         \u001b[0;32mif\u001b[0m \u001b[0mself\u001b[0m\u001b[0;34m.\u001b[0m\u001b[0mn_outputs_\u001b[0m \u001b[0;34m==\u001b[0m \u001b[0;36m1\u001b[0m\u001b[0;34m:\u001b[0m\u001b[0;34m\u001b[0m\u001b[0m\n",
      "\u001b[0;32m/home/shmuma/sfw/anaconda/envs/pract_rl/lib/python3.5/site-packages/sklearn/neural_network/multilayer_perceptron.py\u001b[0m in \u001b[0;36m_predict\u001b[0;34m(self, X)\u001b[0m\n\u001b[1;32m    656\u001b[0m             \u001b[0mThe\u001b[0m \u001b[0mdecision\u001b[0m \u001b[0mfunction\u001b[0m \u001b[0mof\u001b[0m \u001b[0mthe\u001b[0m \u001b[0msamples\u001b[0m \u001b[0;32mfor\u001b[0m \u001b[0meach\u001b[0m \u001b[0;32mclass\u001b[0m \u001b[0;32min\u001b[0m \u001b[0mthe\u001b[0m \u001b[0mmodel\u001b[0m\u001b[0;34m.\u001b[0m\u001b[0;34m\u001b[0m\u001b[0m\n\u001b[1;32m    657\u001b[0m         \"\"\"\n\u001b[0;32m--> 658\u001b[0;31m         \u001b[0mX\u001b[0m \u001b[0;34m=\u001b[0m \u001b[0mcheck_array\u001b[0m\u001b[0;34m(\u001b[0m\u001b[0mX\u001b[0m\u001b[0;34m,\u001b[0m \u001b[0maccept_sparse\u001b[0m\u001b[0;34m=\u001b[0m\u001b[0;34m[\u001b[0m\u001b[0;34m'csr'\u001b[0m\u001b[0;34m,\u001b[0m \u001b[0;34m'csc'\u001b[0m\u001b[0;34m,\u001b[0m \u001b[0;34m'coo'\u001b[0m\u001b[0;34m]\u001b[0m\u001b[0;34m)\u001b[0m\u001b[0;34m\u001b[0m\u001b[0m\n\u001b[0m\u001b[1;32m    659\u001b[0m \u001b[0;34m\u001b[0m\u001b[0m\n\u001b[1;32m    660\u001b[0m         \u001b[0;31m# Make sure self.hidden_layer_sizes is a list\u001b[0m\u001b[0;34m\u001b[0m\u001b[0;34m\u001b[0m\u001b[0m\n",
      "\u001b[0;32m/home/shmuma/sfw/anaconda/envs/pract_rl/lib/python3.5/site-packages/sklearn/utils/validation.py\u001b[0m in \u001b[0;36mcheck_array\u001b[0;34m(array, accept_sparse, dtype, order, copy, force_all_finite, ensure_2d, allow_nd, ensure_min_samples, ensure_min_features, warn_on_dtype, estimator)\u001b[0m\n\u001b[1;32m    405\u001b[0m                              % (array.ndim, estimator_name))\n\u001b[1;32m    406\u001b[0m         \u001b[0;32mif\u001b[0m \u001b[0mforce_all_finite\u001b[0m\u001b[0;34m:\u001b[0m\u001b[0;34m\u001b[0m\u001b[0m\n\u001b[0;32m--> 407\u001b[0;31m             \u001b[0m_assert_all_finite\u001b[0m\u001b[0;34m(\u001b[0m\u001b[0marray\u001b[0m\u001b[0;34m)\u001b[0m\u001b[0;34m\u001b[0m\u001b[0m\n\u001b[0m\u001b[1;32m    408\u001b[0m \u001b[0;34m\u001b[0m\u001b[0m\n\u001b[1;32m    409\u001b[0m     \u001b[0mshape_repr\u001b[0m \u001b[0;34m=\u001b[0m \u001b[0m_shape_repr\u001b[0m\u001b[0;34m(\u001b[0m\u001b[0marray\u001b[0m\u001b[0;34m.\u001b[0m\u001b[0mshape\u001b[0m\u001b[0;34m)\u001b[0m\u001b[0;34m\u001b[0m\u001b[0m\n",
      "\u001b[0;32m/home/shmuma/sfw/anaconda/envs/pract_rl/lib/python3.5/site-packages/sklearn/utils/validation.py\u001b[0m in \u001b[0;36m_assert_all_finite\u001b[0;34m(X)\u001b[0m\n\u001b[1;32m     53\u001b[0m     \u001b[0;31m# everything is finite; fall back to O(n) space np.isfinite to prevent\u001b[0m\u001b[0;34m\u001b[0m\u001b[0;34m\u001b[0m\u001b[0m\n\u001b[1;32m     54\u001b[0m     \u001b[0;31m# false positives from overflow in sum method.\u001b[0m\u001b[0;34m\u001b[0m\u001b[0;34m\u001b[0m\u001b[0m\n\u001b[0;32m---> 55\u001b[0;31m     if (X.dtype.char in np.typecodes['AllFloat'] and not np.isfinite(X.sum())\n\u001b[0m\u001b[1;32m     56\u001b[0m             and not np.isfinite(X).all()):\n\u001b[1;32m     57\u001b[0m         raise ValueError(\"Input contains NaN, infinity\"\n",
      "\u001b[0;31mKeyboardInterrupt\u001b[0m: "
     ]
    }
   ],
   "source": [
    "for i in range(100):\n",
    "    #%time \n",
    "    if monitor_mode:\n",
    "        sessions = [generate_session() for _ in range(n_samples)]\n",
    "    else:\n",
    "        sessions = joblib.Parallel(n_jobs)(joblib.delayed(generate_session)() for _ in range(n_samples))\n",
    "    batch_states, batch_actions, batch_rewards = map(np.array, zip(*sessions))\n",
    "    \n",
    "    threshold = np.percentile(batch_rewards, percentile)\n",
    "    elite_states = batch_states[batch_rewards > threshold]\n",
    "    elite_actions = batch_actions[batch_rewards > threshold]\n",
    "    \n",
    "    if not elite_states.size:\n",
    "        print(\"%d: no elite sessions, try again\" % i)\n",
    "        continue\n",
    "    \n",
    "    elite_states, elite_actions = map(np.concatenate, [elite_states, elite_actions])\n",
    "\n",
    "    agent.partial_fit(elite_states, elite_actions, np.arange(n_actions))\n",
    "    mean_reward = np.mean(batch_rewards)\n",
    "    print(\"%d: mean reward = %.5f (max: %f)\\tthreshold = %.1f\" % (\n",
    "        i, mean_reward, np.max(batch_rewards), threshold))\n",
    "    thresholds.append(threshold)\n",
    "    rewards.append(mean_reward)\n",
    "    \n",
    "    if mean_reward > -150 and not finetune_mode:\n",
    "        finetune_mode = True\n",
    "        percentile = 75\n",
    "        n_samples = 500\n",
    "        print(\"Finetune mode!\")"
   ]
  },
  {
   "cell_type": "code",
   "execution_count": 13,
   "metadata": {},
   "outputs": [
    {
     "data": {
      "image/png": "[encoded data removed]",
      "text/plain": [
       "<matplotlib.figure.Figure at 0x7fc5854e16d8>"
      ]
     },
     "metadata": {},
     "output_type": "display_data"
    }
   ],
   "source": [
    "pl.plot(rewards, label='mean reward')\n",
    "pl.plot(thresholds, label='threshold')\n",
    "pl.legend()\n",
    "pl.show()"
   ]
  },
  {
   "cell_type": "code",
   "execution_count": 18,
   "metadata": {},
   "outputs": [
    {
     "data": {
      "image/png": "[encoded data removed]",
      "text/plain": [
       "<matplotlib.figure.Figure at 0x7fc5756744a8>"
      ]
     },
     "metadata": {},
     "output_type": "display_data"
    }
   ],
   "source": [
    "pl.plot(rewards[100:], label='mean reward')\n",
    "pl.plot(thresholds[100:], label='threshold')\n",
    "pl.legend()\n",
    "pl.show()"
   ]
  },
  {
   "cell_type": "code",
   "execution_count": 19,
   "metadata": {
    "collapsed": true
   },
   "outputs": [],
   "source": [
    "env.close()"
   ]
  },
  {
   "cell_type": "code",
   "execution_count": null,
   "metadata": {
    "collapsed": true
   },
   "outputs": [],
   "source": []
  }
 ],
 "metadata": {
  "kernelspec": {
   "display_name": "Python 3",
   "language": "python",
   "name": "python3"
  },
  "language_info": {
   "codemirror_mode": {
    "name": "ipython",
    "version": 3
   },
   "file_extension": ".py",
   "mimetype": "text/x-python",
   "name": "python",
   "nbconvert_exporter": "python",
   "pygments_lexer": "ipython3",
   "version": "3.5.3"
  }
 },
 "nbformat": 4,
 "nbformat_minor": 2
}
