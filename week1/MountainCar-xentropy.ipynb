{
 "cells": [
  {
   "cell_type": "code",
   "execution_count": 9,
   "metadata": {
    "collapsed": true
   },
   "outputs": [],
   "source": [
    "import gym\n",
    "import gym.wrappers\n",
    "import numpy as np\n",
    "import logging\n",
    "import joblib\n",
    "import threading\n",
    "import matplotlib.pylab as pl\n",
    "%matplotlib inline\n",
    "\n",
    "from tqdm import tqdm_notebook as tqdm"
   ]
  },
  {
   "cell_type": "code",
   "execution_count": 10,
   "metadata": {},
   "outputs": [
    {
     "name": "stdout",
     "output_type": "stream",
     "text": [
      "n_actions=3\n"
     ]
    }
   ],
   "source": [
    "max_steps = 10000\n",
    "gym.logger.setLevel(logging.ERROR)\n",
    "env = gym.make(\"MountainCar-v0\")\n",
    "if isinstance(env, gym.wrappers.TimeLimit):\n",
    "    env._max_episode_steps = max_steps\n",
    "#env = gym.wrappers.Monitor(env, \"mountaincar-res\")\n",
    "\n",
    "n_actions = env.action_space.n\n",
    "\n",
    "print(\"n_actions=%i\" % (n_actions))"
   ]
  },
  {
   "cell_type": "code",
   "execution_count": 11,
   "metadata": {},
   "outputs": [
    {
     "name": "stderr",
     "output_type": "stream",
     "text": [
      "/home/shmuma/anaconda3/envs/pract_rl/lib/python3.5/site-packages/sklearn/neural_network/multilayer_perceptron.py:563: ConvergenceWarning: Stochastic Optimizer: Maximum iterations reached and the optimization hasn't converged yet.\n",
      "  % (), ConvergenceWarning)\n"
     ]
    }
   ],
   "source": [
    "from sklearn.neural_network import MLPClassifier\n",
    "agent = MLPClassifier(hidden_layer_sizes=(40,40),\n",
    "                      activation='tanh',\n",
    "                      warm_start=True, #keep progress between .fit(...) calls\n",
    "                      max_iter=1 #make only 1 iteration on each .fit(...)\n",
    "                     )\n",
    "#initialize agent to the dimension of state an amount of actions\n",
    "agent.fit([env.reset()]*n_actions,range(n_actions));"
   ]
  },
  {
   "cell_type": "code",
   "execution_count": 17,
   "metadata": {
    "collapsed": true
   },
   "outputs": [],
   "source": [
    "def generate_session(t_max=max_steps+1):\n",
    "    loc_data = threading.local()\n",
    "    if not hasattr(loc_data, \"env\"):\n",
    "        loc_data.env = gym.make(\"MountainCar-v0\")\n",
    "        if isinstance(loc_data.env, gym.wrappers.TimeLimit):\n",
    "            loc_data.env._max_episode_steps = t_max-1\n",
    "        \n",
    "    env = loc_data.env\n",
    "    \n",
    "    states, actions = [], []\n",
    "    total_reward = 0\n",
    "    s = env.reset()\n",
    "    \n",
    "    for _ in range(t_max):\n",
    "        probs = agent.predict_proba([s])[0]\n",
    "        a = np.random.choice(n_actions, p=probs)\n",
    "        new_s, r, done, _ = env.step(a)\n",
    "        states.append(s)\n",
    "        actions.append(a)\n",
    "        total_reward += r\n",
    "        s = new_s\n",
    "        if done:\n",
    "            break\n",
    "            \n",
    "    return states, actions, total_reward"
   ]
  },
  {
   "cell_type": "code",
   "execution_count": 18,
   "metadata": {
    "collapsed": true
   },
   "outputs": [],
   "source": [
    "n_jobs = 4\n",
    "n_samples = 250\n",
    "percentile = 40\n",
    "rewards = []\n",
    "thresholds = []\n",
    "finetune_mode = False"
   ]
  },
  {
   "cell_type": "code",
   "execution_count": 71,
   "metadata": {},
   "outputs": [
    {
     "name": "stdout",
     "output_type": "stream",
     "text": [
      "0: mean reward = -132.97600 (max: -107.000000)\tthreshold = -116.0\n",
      "1: mean reward = -131.26800 (max: -107.000000)\tthreshold = -112.0\n",
      "2: mean reward = -134.09000 (max: -107.000000)\tthreshold = -132.0\n",
      "3: mean reward = -133.19400 (max: -107.000000)\tthreshold = -132.8\n",
      "4: mean reward = -133.78800 (max: -107.000000)\tthreshold = -133.0\n",
      "5: mean reward = -132.66200 (max: -107.000000)\tthreshold = -133.0\n",
      "6: mean reward = -134.06200 (max: -107.000000)\tthreshold = -133.0\n",
      "7: mean reward = -133.60200 (max: -107.000000)\tthreshold = -133.0\n",
      "8: mean reward = -134.12000 (max: -107.000000)\tthreshold = -133.0\n",
      "9: mean reward = -132.68800 (max: -107.000000)\tthreshold = -120.8\n",
      "10: mean reward = -133.02800 (max: -107.000000)\tthreshold = -132.0\n",
      "11: mean reward = -133.24600 (max: -107.000000)\tthreshold = -133.0\n",
      "12: mean reward = -132.40400 (max: -107.000000)\tthreshold = -113.0\n",
      "13: mean reward = -131.59600 (max: -107.000000)\tthreshold = -110.0\n",
      "14: mean reward = -132.53200 (max: -107.000000)\tthreshold = -110.0\n",
      "15: mean reward = -133.80000 (max: -107.000000)\tthreshold = -111.0\n",
      "16: mean reward = -131.57000 (max: -107.000000)\tthreshold = -110.0\n",
      "17: mean reward = -133.42600 (max: -107.000000)\tthreshold = -111.0\n",
      "18: mean reward = -132.81400 (max: -107.000000)\tthreshold = -110.0\n",
      "19: mean reward = -132.19600 (max: -107.000000)\tthreshold = -110.0\n",
      "20: mean reward = -132.99000 (max: -107.000000)\tthreshold = -110.0\n",
      "21: mean reward = -132.84600 (max: -107.000000)\tthreshold = -111.0\n",
      "22: mean reward = -133.22800 (max: -107.000000)\tthreshold = -109.8\n",
      "23: mean reward = -130.87000 (max: -107.000000)\tthreshold = -109.0\n",
      "24: mean reward = -131.82000 (max: -107.000000)\tthreshold = -110.0\n",
      "25: mean reward = -131.17000 (max: -107.000000)\tthreshold = -109.0\n",
      "26: mean reward = -129.85400 (max: -107.000000)\tthreshold = -109.0\n",
      "27: mean reward = -129.78800 (max: -107.000000)\tthreshold = -109.0\n",
      "28: mean reward = -130.60000 (max: -107.000000)\tthreshold = -109.0\n",
      "29: mean reward = -130.95800 (max: -107.000000)\tthreshold = -109.0\n",
      "30: mean reward = -133.06000 (max: -107.000000)\tthreshold = -109.0\n",
      "31: mean reward = -129.80000 (max: -107.000000)\tthreshold = -109.0\n",
      "32: mean reward = -131.16400 (max: -107.000000)\tthreshold = -109.0\n",
      "33: mean reward = -132.90800 (max: -107.000000)\tthreshold = -109.0\n",
      "34: mean reward = -128.27000 (max: -107.000000)\tthreshold = -109.0\n",
      "35: mean reward = -129.89200 (max: -107.000000)\tthreshold = -109.0\n",
      "36: mean reward = -130.05200 (max: -107.000000)\tthreshold = -109.0\n",
      "37: mean reward = -130.29800 (max: -107.000000)\tthreshold = -109.0\n",
      "38: mean reward = -130.14000 (max: -107.000000)\tthreshold = -109.0\n",
      "39: mean reward = -128.98600 (max: -107.000000)\tthreshold = -109.0\n",
      "40: mean reward = -129.44000 (max: -107.000000)\tthreshold = -109.0\n",
      "41: mean reward = -128.97000 (max: -107.000000)\tthreshold = -109.0\n",
      "42: mean reward = -129.20200 (max: -107.000000)\tthreshold = -109.0\n",
      "43: mean reward = -129.49000 (max: -107.000000)\tthreshold = -109.0\n",
      "44: mean reward = -129.10800 (max: -107.000000)\tthreshold = -109.0\n",
      "45: mean reward = -128.41800 (max: -107.000000)\tthreshold = -109.0\n",
      "46: mean reward = -130.46600 (max: -107.000000)\tthreshold = -109.0\n",
      "47: mean reward = -129.79200 (max: -107.000000)\tthreshold = -109.0\n",
      "48: mean reward = -130.36200 (max: -107.000000)\tthreshold = -109.0\n",
      "49: mean reward = -129.93200 (max: -107.000000)\tthreshold = -109.0\n",
      "50: mean reward = -130.28000 (max: -107.000000)\tthreshold = -109.0\n",
      "51: mean reward = -129.70000 (max: -107.000000)\tthreshold = -109.0\n",
      "52: mean reward = -131.32400 (max: -107.000000)\tthreshold = -109.0\n",
      "53: mean reward = -127.47400 (max: -107.000000)\tthreshold = -109.0\n",
      "54: mean reward = -130.12400 (max: -107.000000)\tthreshold = -109.0\n",
      "55: mean reward = -128.24200 (max: -107.000000)\tthreshold = -109.0\n",
      "56: mean reward = -128.41800 (max: -107.000000)\tthreshold = -109.0\n",
      "57: mean reward = -130.30400 (max: -107.000000)\tthreshold = -109.0\n",
      "58: mean reward = -128.32200 (max: -107.000000)\tthreshold = -109.0\n",
      "59: mean reward = -128.82600 (max: -107.000000)\tthreshold = -109.0\n",
      "60: mean reward = -129.70600 (max: -107.000000)\tthreshold = -109.0\n",
      "61: mean reward = -128.30000 (max: -107.000000)\tthreshold = -109.0\n",
      "62: mean reward = -129.70400 (max: -107.000000)\tthreshold = -109.0\n",
      "63: mean reward = -129.35200 (max: -107.000000)\tthreshold = -109.0\n",
      "64: mean reward = -128.48600 (max: -107.000000)\tthreshold = -109.0\n",
      "65: mean reward = -129.65000 (max: -107.000000)\tthreshold = -109.0\n",
      "66: mean reward = -129.91400 (max: -107.000000)\tthreshold = -109.0\n",
      "67: mean reward = -128.25800 (max: -107.000000)\tthreshold = -109.0\n",
      "68: mean reward = -131.04600 (max: -107.000000)\tthreshold = -109.0\n",
      "69: mean reward = -128.15800 (max: -107.000000)\tthreshold = -109.0\n",
      "70: mean reward = -129.11400 (max: -107.000000)\tthreshold = -109.0\n",
      "71: mean reward = -129.04600 (max: -107.000000)\tthreshold = -109.0\n",
      "72: mean reward = -129.05400 (max: -107.000000)\tthreshold = -109.0\n",
      "73: mean reward = -129.45400 (max: -107.000000)\tthreshold = -109.0\n",
      "74: mean reward = -130.47400 (max: -107.000000)\tthreshold = -110.0\n",
      "75: mean reward = -130.78800 (max: -107.000000)\tthreshold = -109.0\n",
      "76: mean reward = -129.20600 (max: -107.000000)\tthreshold = -109.0\n",
      "77: mean reward = -130.75400 (max: -107.000000)\tthreshold = -110.0\n",
      "78: mean reward = -130.65200 (max: -107.000000)\tthreshold = -110.0\n",
      "79: mean reward = -130.97800 (max: -107.000000)\tthreshold = -109.8\n",
      "80: mean reward = -131.66000 (max: -107.000000)\tthreshold = -113.8\n",
      "81: mean reward = -132.17800 (max: -107.000000)\tthreshold = -132.8\n",
      "82: mean reward = -129.43600 (max: -107.000000)\tthreshold = -109.0\n",
      "83: mean reward = -131.75000 (max: -107.000000)\tthreshold = -112.0\n",
      "84: mean reward = -132.53000 (max: -107.000000)\tthreshold = -134.0\n",
      "85: mean reward = -130.47200 (max: -107.000000)\tthreshold = -109.0\n",
      "86: mean reward = -131.15000 (max: -107.000000)\tthreshold = -109.0\n",
      "87: mean reward = -130.15800 (max: -107.000000)\tthreshold = -109.0\n",
      "88: mean reward = -131.49800 (max: -107.000000)\tthreshold = -110.0\n",
      "89: mean reward = -132.58000 (max: -107.000000)\tthreshold = -133.0\n",
      "90: mean reward = -132.27400 (max: -107.000000)\tthreshold = -132.0\n",
      "91: mean reward = -132.08600 (max: -107.000000)\tthreshold = -131.8\n",
      "92: mean reward = -132.14000 (max: -107.000000)\tthreshold = -133.0\n",
      "93: mean reward = -131.59800 (max: -107.000000)\tthreshold = -131.8\n",
      "94: mean reward = -131.86000 (max: -107.000000)\tthreshold = -129.0\n",
      "95: mean reward = -131.06200 (max: -107.000000)\tthreshold = -111.0\n",
      "96: mean reward = -130.43400 (max: -107.000000)\tthreshold = -109.0\n",
      "97: mean reward = -132.00000 (max: -107.000000)\tthreshold = -129.2\n",
      "98: mean reward = -131.46600 (max: -107.000000)\tthreshold = -110.0\n",
      "99: mean reward = -131.09200 (max: -107.000000)\tthreshold = -110.0\n"
     ]
    }
   ],
   "source": [
    "for i in range(100):\n",
    "    #%time \n",
    "    sessions = joblib.Parallel(n_jobs)(joblib.delayed(generate_session)() for _ in range(n_samples))\n",
    "    batch_states, batch_actions, batch_rewards = map(np.array, zip(*sessions))\n",
    "    \n",
    "    threshold = np.percentile(batch_rewards, percentile)\n",
    "    elite_states = batch_states[batch_rewards > threshold]\n",
    "    elite_actions = batch_actions[batch_rewards > threshold]\n",
    "    \n",
    "    if not elite_states.size:\n",
    "        print(\"%d: no elite sessions, try again\" % i)\n",
    "        continue\n",
    "    \n",
    "    elite_states, elite_actions = map(np.concatenate, [elite_states, elite_actions])\n",
    "\n",
    "    agent.partial_fit(elite_states, elite_actions, np.arange(n_actions))\n",
    "    mean_reward = np.mean(batch_rewards)\n",
    "    print(\"%d: mean reward = %.5f (max: %f)\\tthreshold = %.1f\" % (\n",
    "        i, mean_reward, np.max(batch_rewards), threshold))\n",
    "    thresholds.append(threshold)\n",
    "    rewards.append(mean_reward)\n",
    "    \n",
    "    if mean_reward > -150:\n",
    "        finetune_mode = True\n",
    "        percentile = 75\n",
    "        n_samples = 500\n",
    "        print(\"Finetune mode!\")"
   ]
  },
  {
   "cell_type": "code",
   "execution_count": 72,
   "metadata": {},
   "outputs": [
    {
     "data": {
      "image/png": "[encoded data removed]",
      "text/plain": [
       "<matplotlib.figure.Figure at 0x7fc1597daba8>"
      ]
     },
     "metadata": {},
     "output_type": "display_data"
    }
   ],
   "source": [
    "pl.plot(rewards, label='mean reward')\n",
    "pl.plot(thresholds, label='threshold')\n",
    "pl.legend()\n",
    "pl.show()"
   ]
  },
  {
   "cell_type": "code",
   "execution_count": 60,
   "metadata": {},
   "outputs": [
    {
     "data": {
      "image/png": "[encoded data removed]",
      "text/plain": [
       "<matplotlib.figure.Figure at 0x7f6684d229b0>"
      ]
     },
     "metadata": {},
     "output_type": "display_data"
    }
   ],
   "source": [
    "pl.plot(rewards, label='mean reward')\n",
    "pl.plot(thresholds, label='threshold')\n",
    "pl.legend()\n",
    "pl.show()"
   ]
  },
  {
   "cell_type": "code",
   "execution_count": 61,
   "metadata": {
    "collapsed": true
   },
   "outputs": [],
   "source": [
    "env.close()"
   ]
  },
  {
   "cell_type": "code",
   "execution_count": null,
   "metadata": {
    "collapsed": true
   },
   "outputs": [],
   "source": []
  }
 ],
 "metadata": {
  "kernelspec": {
   "display_name": "Python 3",
   "language": "python",
   "name": "python3"
  },
  "language_info": {
   "codemirror_mode": {
    "name": "ipython",
    "version": 3
   },
   "file_extension": ".py",
   "mimetype": "text/x-python",
   "name": "python",
   "nbconvert_exporter": "python",
   "pygments_lexer": "ipython3",
   "version": "3.5.3"
  }
 },
 "nbformat": 4,
 "nbformat_minor": 2
}
