{
 "cells": [
  {
   "cell_type": "code",
   "execution_count": 66,
   "metadata": {
    "collapsed": true
   },
   "outputs": [],
   "source": [
    "import gym\n",
    "import gym.wrappers\n",
    "import numpy as np\n",
    "import logging\n",
    "import joblib\n",
    "import matplotlib.pylab as pl\n",
    "import threading\n",
    "%matplotlib inline\n",
    "\n",
    "from tqdm import tqdm_notebook as tqdm"
   ]
  },
  {
   "cell_type": "code",
   "execution_count": 67,
   "metadata": {},
   "outputs": [
    {
     "name": "stdout",
     "output_type": "stream",
     "text": [
      "n_actions=4\n"
     ]
    }
   ],
   "source": [
    "gym.logger.setLevel(logging.ERROR)\n",
    "env = gym.make(\"LunarLander-v2\")\n",
    "# if isinstance(env, gym.wrappers.TimeLimit):\n",
    "#     env._max_episode_steps = max_steps\n",
    "#env = gym.wrappers.Monitor(env, \"mountaincar-res\")\n",
    "\n",
    "n_actions = env.action_space.n\n",
    "\n",
    "print(\"n_actions=%i\" % (n_actions))"
   ]
  },
  {
   "cell_type": "code",
   "execution_count": 68,
   "metadata": {},
   "outputs": [
    {
     "name": "stderr",
     "output_type": "stream",
     "text": [
      "/home/shmuma/anaconda3/envs/pract_rl/lib/python3.5/site-packages/sklearn/neural_network/multilayer_perceptron.py:563: ConvergenceWarning: Stochastic Optimizer: Maximum iterations reached and the optimization hasn't converged yet.\n",
      "  % (), ConvergenceWarning)\n"
     ]
    }
   ],
   "source": [
    "from sklearn.neural_network import MLPClassifier\n",
    "agent = MLPClassifier(hidden_layer_sizes=(40,40),\n",
    "                      activation='tanh',\n",
    "                      warm_start=True, #keep progress between .fit(...) calls\n",
    "                      max_iter=1 #make only 1 iteration on each .fit(...)\n",
    "                     )\n",
    "#initialize agent to the dimension of state an amount of actions\n",
    "agent.fit([env.reset()]*n_actions,range(n_actions));"
   ]
  },
  {
   "cell_type": "code",
   "execution_count": 69,
   "metadata": {
    "collapsed": true
   },
   "outputs": [],
   "source": [
    "def generate_session(t_max=10000):\n",
    "    loc_data = threading.local()\n",
    "    if not hasattr(loc_data, \"env\"):\n",
    "        loc_data.env = gym.make(\"LunarLander-v2\")\n",
    "    env = loc_data.env\n",
    "    states, actions = [], []\n",
    "    total_reward = 0\n",
    "    s = env.reset()\n",
    "    \n",
    "    for _ in range(t_max):\n",
    "        probs = agent.predict_proba([s])[0]\n",
    "        a = np.random.choice(n_actions, p=probs)\n",
    "        new_s, r, done, _ = env.step(a)\n",
    "        states.append(s)\n",
    "        actions.append(a)\n",
    "        total_reward += r\n",
    "        s = new_s\n",
    "        if done:\n",
    "            break\n",
    "    \n",
    "    return states, actions, total_reward"
   ]
  },
  {
   "cell_type": "code",
   "execution_count": 70,
   "metadata": {
    "collapsed": true
   },
   "outputs": [],
   "source": [
    "n_jobs = 4\n",
    "n_samples = 500\n",
    "percentile = 50\n",
    "rewards = []\n",
    "thresholds = []"
   ]
  },
  {
   "cell_type": "code",
   "execution_count": 73,
   "metadata": {
    "collapsed": true
   },
   "outputs": [],
   "source": [
    "percentile = 40\n",
    "n_samples = 500\n",
    "rewards = []\n",
    "thresholds = []"
   ]
  },
  {
   "cell_type": "code",
   "execution_count": null,
   "metadata": {},
   "outputs": [
    {
     "name": "stdout",
     "output_type": "stream",
     "text": [
      "0: mean reward = -23.32533 (max: 188.928599)\tthreshold = -14.9\n",
      "1: mean reward = -23.67996 (max: 186.886257)\tthreshold = -15.7\n",
      "2: mean reward = -15.52571 (max: 241.022867)\tthreshold = -14.2\n",
      "3: mean reward = -7.21091 (max: 184.619889)\tthreshold = -11.4\n",
      "4: mean reward = -6.53283 (max: 179.524921)\tthreshold = -9.9\n",
      "5: mean reward = -10.35509 (max: 132.769350)\tthreshold = -13.4\n",
      "6: mean reward = -3.62665 (max: 203.793064)\tthreshold = -12.1\n",
      "7: mean reward = -4.19189 (max: 180.279122)\tthreshold = -9.1\n",
      "8: mean reward = -8.52725 (max: 213.445741)\tthreshold = -11.1\n",
      "9: mean reward = -2.41902 (max: 194.079680)\tthreshold = -10.4\n",
      "10: mean reward = -3.80759 (max: 179.029426)\tthreshold = -8.2\n",
      "11: mean reward = 4.45655 (max: 220.015085)\tthreshold = -5.2\n",
      "12: mean reward = -3.31922 (max: 161.526512)\tthreshold = -7.2\n",
      "13: mean reward = -0.30311 (max: 199.860849)\tthreshold = -5.5\n",
      "14: mean reward = 0.49324 (max: 220.512526)\tthreshold = -7.4\n",
      "15: mean reward = 0.98956 (max: 202.550626)\tthreshold = -3.1\n",
      "16: mean reward = -5.21652 (max: 215.529183)\tthreshold = -7.0\n",
      "17: mean reward = -0.10972 (max: 217.290108)\tthreshold = -6.9\n",
      "18: mean reward = 1.28432 (max: 195.982762)\tthreshold = -5.0\n"
     ]
    }
   ],
   "source": [
    "for i in range(100):\n",
    "    # it's essential to create new pool of workers every time\n",
    "    #%time \n",
    "    sessions = joblib.Parallel(n_jobs)(joblib.delayed(generate_session)() for _ in range(n_samples))\n",
    "    batch_states, batch_actions, batch_rewards = map(np.array, zip(*sessions))\n",
    "\n",
    "    threshold = np.percentile(batch_rewards, percentile)\n",
    "    elite_states = batch_states[batch_rewards > threshold]\n",
    "    elite_actions = batch_actions[batch_rewards > threshold]\n",
    "\n",
    "    if not elite_states.size:\n",
    "        print(\"%d: no elite sessions, try again\" % i)\n",
    "        continue\n",
    "\n",
    "    elite_states, elite_actions = map(np.concatenate, [elite_states, elite_actions])\n",
    "\n",
    "    agent.fit(elite_states, elite_actions)\n",
    "    print(\"%d: mean reward = %.5f (max: %f)\\tthreshold = %.1f\" % (\n",
    "        i, np.mean(batch_rewards), np.max(batch_rewards), threshold))\n",
    "    thresholds.append(threshold)\n",
    "    rewards.append(np.mean(batch_rewards))"
   ]
  },
  {
   "cell_type": "code",
   "execution_count": 72,
   "metadata": {},
   "outputs": [
    {
     "data": {
      "image/png": "[encoded data removed]",
      "text/plain": [
       "<matplotlib.figure.Figure at 0x7fa914e7c668>"
      ]
     },
     "metadata": {},
     "output_type": "display_data"
    }
   ],
   "source": [
    "pl.plot(rewards, label='mean reward')\n",
    "pl.plot(thresholds, label='threshold')\n",
    "pl.legend()\n",
    "pl.show()"
   ]
  },
  {
   "cell_type": "code",
   "execution_count": 65,
   "metadata": {},
   "outputs": [
    {
     "data": {
      "image/png": "[encoded data removed]",
      "text/plain": [
       "<matplotlib.figure.Figure at 0x7fa947f89a20>"
      ]
     },
     "metadata": {},
     "output_type": "display_data"
    }
   ],
   "source": [
    "pl.plot(rewards, label='mean reward')\n",
    "pl.plot(thresholds, label='threshold')\n",
    "pl.legend()\n",
    "pl.show()"
   ]
  },
  {
   "cell_type": "code",
   "execution_count": null,
   "metadata": {
    "collapsed": true
   },
   "outputs": [],
   "source": []
  }
 ],
 "metadata": {
  "kernelspec": {
   "display_name": "Python 3",
   "language": "python",
   "name": "python3"
  },
  "language_info": {
   "codemirror_mode": {
    "name": "ipython",
    "version": 3
   },
   "file_extension": ".py",
   "mimetype": "text/x-python",
   "name": "python",
   "nbconvert_exporter": "python",
   "pygments_lexer": "ipython3",
   "version": "3.5.3"
  }
 },
 "nbformat": 4,
 "nbformat_minor": 2
}
