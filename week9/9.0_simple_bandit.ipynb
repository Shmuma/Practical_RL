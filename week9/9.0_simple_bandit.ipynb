{
 "cells": [
  {
   "cell_type": "code",
   "execution_count": null,
   "metadata": {
    "collapsed": true
   },
   "outputs": [],
   "source": [
    "import numpy as np\n",
    "import matplotlib.pyplot as plt\n",
    "%matplotlib inline"
   ]
  },
  {
   "cell_type": "markdown",
   "metadata": {},
   "source": [
    "### Load data\n",
    "\n",
    "We'll emulate a simple problem of learning to classify MNIST from states and actions."
   ]
  },
  {
   "cell_type": "code",
   "execution_count": null,
   "metadata": {
    "collapsed": false
   },
   "outputs": [],
   "source": [
    "from sklearn.datasets import load_digits\n",
    "_x,_y = load_digits(return_X_y=True)\n",
    "\n",
    "all_states = (_x/_x.max()).astype('float32')\n",
    "action_rewards = np.zeros((len(_y),len(set(_y)))).astype('float32')\n",
    "action_rewards[np.arange(len(_y)),_y]=1\n",
    "\n",
    "state_size = all_states.shape[1]\n",
    "n_actions = action_rewards.shape[1]"
   ]
  },
  {
   "cell_type": "code",
   "execution_count": null,
   "metadata": {
    "collapsed": true
   },
   "outputs": [],
   "source": [
    "import theano, theano.tensor as T\n",
    "import lasagne\n",
    "from lasagne.layers import *\n",
    "from lasagne.init import Normal,Constant"
   ]
  },
  {
   "cell_type": "code",
   "execution_count": null,
   "metadata": {
    "collapsed": false
   },
   "outputs": [],
   "source": [
    "\n",
    "class Bandit:\n",
    "    \"\"\"a bandit with bayesian neural net\"\"\"\n",
    "    def __init__(self,state_size=state_size,n_actions=n_actions):\n",
    "        \n",
    "        #input variables\n",
    "        input_states = T.matrix(\"states\")\n",
    "        target_actions = T.ivector(\"actions taken\")\n",
    "        target_rewards = T.vector(\"rewards\")\n",
    "        \n",
    "        batch_size = target_actions.shape[0]\n",
    "\n",
    "        ###\n",
    "        #network body\n",
    "        inp = InputLayer((None,state_size),name='input')\n",
    "\n",
    "        hid = DenseLayer(inp,50,\n",
    "                         nonlinearity=T.nnet.elu,name='hidden')\n",
    "\n",
    "        mu = <layer that predicts mean reward>\n",
    "        \n",
    "        rho = <layer that predicts log-sigma reward>\n",
    "\n",
    "        \n",
    "        ###\n",
    "        #prediction\n",
    "        mu_all_actions,rho_all_actions = get_output([mu,rho],inputs=input_states)\n",
    "        \n",
    "        #compute variance as e^rho\n",
    "        var_all_actions = T.exp(rho_all_actions)\n",
    "        \n",
    "        self.predict_mu_sigma = theano.function([input_states],[mu_all_actions,var_all_actions**.5])\n",
    "\n",
    "\n",
    "        ###\n",
    "        #Training\n",
    "\n",
    "        #select prediction for taken actions\n",
    "        mu_target_actions = mu_all_actions[T.arange(batch_size),target_actions]\n",
    "        var_target_actions = var_all_actions[T.arange(batch_size),target_actions]\n",
    "        \n",
    "        \n",
    "        #compute log-likelihood\n",
    "        llh = <compute _mean_ logarithm of normal distribution given mu and var=sigma^2>\n",
    "        \n",
    "        #loss = negative log-likelihood (mse) + regularizer\n",
    "        reg = var_target_actions.mean()\n",
    "        loss = -llh + 1e-2*reg\n",
    "\n",
    "\n",
    "        #gradient descent\n",
    "        weights = <get all weights>\n",
    "        updates = <you guessed it! adam :)>\n",
    "        \n",
    "        self.train_step = theano.function([input_states,target_actions,target_rewards],\n",
    "                                          [-llh.mean(),reg.mean()],updates = updates,\n",
    "                                          allow_input_downcast=True)\n",
    "    \n",
    "    \n",
    "    epsilon=0.1\n",
    "    def get_action(self,states):\n",
    "        \"\"\"\n",
    "        picks action based on e-greedy\n",
    "        \"\"\"\n",
    "        assert states.ndim==2,\"states must be 2-dimensional\"\n",
    "        \n",
    "        #compute best actions. At first, try epsilon-greedy algorithm with epsilon=0.1\n",
    "        <your code here, use self.get_mu_sigma to compute all actions>\n",
    "        \n",
    "        return <best actions>\n"
   ]
  },
  {
   "cell_type": "markdown",
   "metadata": {},
   "source": [
    "### Train the bandit\n",
    "\n",
    "We emulate infinite stream of data and pick actions using agent's get_action function."
   ]
  },
  {
   "cell_type": "code",
   "execution_count": null,
   "metadata": {
    "collapsed": true
   },
   "outputs": [],
   "source": [
    "def get_new_samples(states,action_rewards,batch_size=1):\n",
    "    \"\"\"samples random minibatch, emulating new users\"\"\"\n",
    "    batch_ix = np.random.randint(0,len(states),batch_size)\n",
    "    return states[batch_ix],action_rewards[batch_ix]"
   ]
  },
  {
   "cell_type": "code",
   "execution_count": null,
   "metadata": {
    "collapsed": false
   },
   "outputs": [],
   "source": [
    "bandit = Bandit()"
   ]
  },
  {
   "cell_type": "code",
   "execution_count": null,
   "metadata": {
    "collapsed": false
   },
   "outputs": [],
   "source": [
    "from IPython.display import clear_output\n",
    "batch_size = 100\n",
    "rewards_history = []\n",
    "\n",
    "for i in range(1000):\n",
    "    ###\n",
    "    #new data\n",
    "    b_states,b_action_rewards = get_new_samples(all_states,action_rewards,batch_size)\n",
    "    \n",
    "    ###\n",
    "    #pick actions\n",
    "    b_actions = bandit.get_action(b_states)\n",
    "    \n",
    "    ###\n",
    "    #rewards for actions agent just took\n",
    "    b_rewards = b_action_rewards[np.arange(batch_size),b_actions]\n",
    "    \n",
    "    ###\n",
    "    #train bandit\n",
    "    for _ in range(100):\n",
    "        mse,reg = bandit.train_step(b_states,b_actions,b_rewards)\n",
    "    \n",
    "    rewards_history.append(b_rewards.mean())\n",
    "    \n",
    "    if i%10 ==0:\n",
    "        clear_output(True)\n",
    "        print(\"iteration #%i\\tmean reward=%.3f\\tmse=%.3f\\treg=%.3f\"%(i,np.mean(rewards_history[-10:]),mse,reg))\n",
    "        plt.plot(rewards_history)\n",
    "        plt.show()"
   ]
  },
  {
   "cell_type": "markdown",
   "metadata": {},
   "source": [
    "### Bayesian UCB"
   ]
  },
  {
   "cell_type": "code",
   "execution_count": null,
   "metadata": {
    "collapsed": true
   },
   "outputs": [],
   "source": [
    "class UCBBandit(Bandit):\n",
    "    k=1\n",
    "    def get_action(self,states):\n",
    "        \"\"\"\n",
    "        picks action based on UCB exploration policy\n",
    "        \"\"\"\n",
    "        assert states.ndim==2,\"states must be 2-dimensional\"\n",
    "        \n",
    "        #compute best actions. Try bayesian ucb (max of mu + k*sigma, start with k=1)\n",
    "        <your code here, use self.get_mu_sigma to estimate best actions>\n",
    "        \n",
    "        return <best actions>\n"
   ]
  },
  {
   "cell_type": "code",
   "execution_count": null,
   "metadata": {
    "collapsed": true
   },
   "outputs": [],
   "source": [
    "bandit = UCBBandit()"
   ]
  },
  {
   "cell_type": "code",
   "execution_count": null,
   "metadata": {
    "collapsed": true
   },
   "outputs": [],
   "source": [
    "from IPython.display import clear_output\n",
    "batch_size = 100\n",
    "rewards_history = []\n",
    "\n",
    "for i in range(1000):\n",
    "    ###\n",
    "    #new data\n",
    "    b_states,b_action_rewards = get_new_samples(all_states,action_rewards,batch_size)\n",
    "    \n",
    "    ###\n",
    "    #pick actions\n",
    "    b_actions = bandit.get_action(b_states)\n",
    "    \n",
    "    ###\n",
    "    #rewards for actions agent just took\n",
    "    b_rewards = b_action_rewards[np.arange(batch_size),b_actions]\n",
    "    \n",
    "    ###\n",
    "    #train bandit\n",
    "    mse,reg = bandit.train_step(b_states,b_actions,b_rewards)\n",
    "    \n",
    "    rewards_history.append(b_rewards.mean())\n",
    "    \n",
    "    if i%10 ==0:\n",
    "        clear_output(True)\n",
    "        print(\"iteration #%i\\tmean reward=%.3f\\tmse=%.3f\\treg=%.3f\"%(i,np.mean(rewards_history[-10:]),mse,reg))\n",
    "        plt.plot(rewards_history)\n",
    "        plt.show()"
   ]
  },
  {
   "cell_type": "markdown",
   "metadata": {},
   "source": [
    "### More will follow\n",
    "\n",
    "We'll publish second part shortly..."
   ]
  },
  {
   "cell_type": "code",
   "execution_count": null,
   "metadata": {
    "collapsed": true
   },
   "outputs": [],
   "source": []
  }
 ],
 "metadata": {
  "kernelspec": {
   "display_name": "Python [Root]",
   "language": "python",
   "name": "Python [Root]"
  },
  "language_info": {
   "codemirror_mode": {
    "name": "ipython",
    "version": 2
   },
   "file_extension": ".py",
   "mimetype": "text/x-python",
   "name": "python",
   "nbconvert_exporter": "python",
   "pygments_lexer": "ipython2",
   "version": "2.7.12"
  }
 },
 "nbformat": 4,
 "nbformat_minor": 0
}
