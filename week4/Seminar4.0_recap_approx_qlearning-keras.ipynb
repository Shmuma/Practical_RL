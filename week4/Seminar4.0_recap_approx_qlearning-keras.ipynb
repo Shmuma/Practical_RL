{
 "cells": [
  {
   "cell_type": "markdown",
   "metadata": {},
   "source": [
    "# Approximate q-learning\n",
    "\n",
    "In this notebook you will teach a lasagne neural network to do Q-learning."
   ]
  },
  {
   "cell_type": "markdown",
   "metadata": {},
   "source": [
    "__Frameworks__ - we'll accept this homework in any deep learning framework. For example, it translates to TensorFlow almost line-to-line. However, we recommend you to stick to theano/lasagne unless you're certain about your skills in the framework of your choice."
   ]
  },
  {
   "cell_type": "code",
   "execution_count": 1,
   "metadata": {},
   "outputs": [
    {
     "name": "stderr",
     "output_type": "stream",
     "text": [
      "Using TensorFlow backend.\n"
     ]
    }
   ],
   "source": [
    "import keras.backend as K\n",
    "from keras.models import Model\n",
    "from keras.layers import Dense, Input, Lambda\n",
    "from keras.optimizers import RMSprop, Adam"
   ]
  },
  {
   "cell_type": "code",
   "execution_count": 4,
   "metadata": {
    "collapsed": true
   },
   "outputs": [],
   "source": [
    "from pycrayon import CrayonClient\n",
    "client = CrayonClient(hostname='localhost')\n",
    "crayon = client.create_experiment(\"keras-1\")"
   ]
  },
  {
   "cell_type": "code",
   "execution_count": 5,
   "metadata": {
    "collapsed": true
   },
   "outputs": [],
   "source": [
    "import gym\n",
    "import numpy as np, pandas as pd\n",
    "import matplotlib.pyplot as plt\n",
    "%matplotlib inline"
   ]
  },
  {
   "cell_type": "code",
   "execution_count": 6,
   "metadata": {
    "scrolled": false
   },
   "outputs": [
    {
     "name": "stderr",
     "output_type": "stream",
     "text": [
      "[2017-04-21 15:59:38,775] Making new env: CartPole-v0\n"
     ]
    },
    {
     "name": "stdout",
     "output_type": "stream",
     "text": [
      "n_actions=2, state_dim=(4,)\n"
     ]
    }
   ],
   "source": [
    "env = gym.make(\"CartPole-v0\").env\n",
    "env.reset()\n",
    "n_actions = env.action_space.n\n",
    "state_dim = env.observation_space.shape\n",
    "\n",
    "print(\"n_actions={}, state_dim={}\".format(n_actions, state_dim))\n",
    "#plt.imshow(env.render(\"rgb_array\"))"
   ]
  },
  {
   "cell_type": "markdown",
   "metadata": {},
   "source": [
    "# Approximate (deep) Q-learning: building the network\n",
    "\n",
    "In this section we will build and train naive Q-learning with theano/lasagne"
   ]
  },
  {
   "cell_type": "markdown",
   "metadata": {},
   "source": [
    "First step is initializing input variables"
   ]
  },
  {
   "cell_type": "code",
   "execution_count": 7,
   "metadata": {
    "collapsed": true
   },
   "outputs": [],
   "source": [
    "L1_SIZE = 50\n",
    "L2_SIZE = 50\n",
    "gamma = 0.99"
   ]
  },
  {
   "cell_type": "code",
   "execution_count": 8,
   "metadata": {},
   "outputs": [
    {
     "name": "stdout",
     "output_type": "stream",
     "text": [
      "_________________________________________________________________\n",
      "Layer (type)                 Output Shape              Param #   \n",
      "=================================================================\n",
      "input (InputLayer)           (None, 4)                 0         \n",
      "_________________________________________________________________\n",
      "l1 (Dense)                   (None, 50)                250       \n",
      "_________________________________________________________________\n",
      "out (Dense)                  (None, 2)                 102       \n",
      "=================================================================\n",
      "Total params: 352\n",
      "Trainable params: 352\n",
      "Non-trainable params: 0\n",
      "_________________________________________________________________\n"
     ]
    }
   ],
   "source": [
    "# input - observation, output - qvalues\n",
    "in_t = Input(shape=state_dim, name='input')\n",
    "l1_t = Dense(L1_SIZE, activation='relu', name='l1')(in_t)\n",
    "#l2_t = Dense(L2_SIZE, activation='relu', name='l2')(l1_t)\n",
    "l_out_t = Dense(n_actions, name='out')(l1_t)\n",
    "model = Model(inputs=[in_t], outputs=[l_out_t])\n",
    "model.summary()\n",
    "\n",
    "model.compile(optimizer=Adam(lr=0.0005), loss='mse')"
   ]
  },
  {
   "cell_type": "markdown",
   "metadata": {},
   "source": [
    "### Playing the game"
   ]
  },
  {
   "cell_type": "code",
   "execution_count": 9,
   "metadata": {},
   "outputs": [],
   "source": [
    "epsilon = 0.25 #initial epsilon\n",
    "\n",
    "def generate_session(t_max=1000):\n",
    "    \"\"\"play env with approximate q-learning agent and train it at the same time\"\"\"\n",
    "    \n",
    "    total_reward = 0\n",
    "    s = env.reset()\n",
    "    q_vals_means = []\n",
    "    losses = []\n",
    "\n",
    "    for t in range(t_max):\n",
    "        q_vals = model.predict_on_batch(np.array([s]))[0]\n",
    "        if np.random.rand() < epsilon:\n",
    "            a = env.action_space.sample()\n",
    "        else:\n",
    "            a = np.argmax(q_vals)\n",
    "        \n",
    "        new_s,r,done,info = env.step(a)\n",
    "\n",
    "        new_q = model.predict_on_batch(np.array([new_s]))[0]\n",
    "        valid_q = np.array(q_vals)\n",
    "        if done:\n",
    "            valid_q[a] = r\n",
    "        else:\n",
    "            valid_q[a] = r + gamma * new_q.max()\n",
    " \n",
    "        l = model.train_on_batch(np.array([s]), np.array([valid_q]))\n",
    "        losses.append(l)\n",
    "        q_vals_means.append(q_vals.mean())\n",
    "        total_reward+=r\n",
    "        \n",
    "        s = new_s\n",
    "        if done: break\n",
    "\n",
    "    crayon.add_scalar_value(\"q_mean\", float(np.mean(q_vals_means)))\n",
    "    crayon.add_scalar_value(\"reward\", total_reward)\n",
    "    crayon.add_scalar_value(\"loss\", float(np.mean(losses)))\n",
    "    \n",
    "    return total_reward\n",
    "        "
   ]
  },
  {
   "cell_type": "code",
   "execution_count": 10,
   "metadata": {},
   "outputs": [
    {
     "name": "stdout",
     "output_type": "stream",
     "text": [
      "0: mean reward:10.810\tepsilon:0.23750\n",
      "1: mean reward:10.640\tepsilon:0.22562\n",
      "2: mean reward:10.550\tepsilon:0.21434\n",
      "3: mean reward:12.200\tepsilon:0.20363\n",
      "4: mean reward:15.080\tepsilon:0.19345\n",
      "5: mean reward:15.360\tepsilon:0.18377\n",
      "6: mean reward:16.660\tepsilon:0.17458\n",
      "7: mean reward:17.970\tepsilon:0.16586\n",
      "8: mean reward:24.700\tepsilon:0.15756\n",
      "9: mean reward:23.850\tepsilon:0.14968\n",
      "10: mean reward:20.150\tepsilon:0.14220\n",
      "11: mean reward:16.250\tepsilon:0.13509\n",
      "12: mean reward:36.790\tepsilon:0.12834\n",
      "13: mean reward:35.340\tepsilon:0.12192\n",
      "14: mean reward:58.170\tepsilon:0.11582\n",
      "15: mean reward:93.050\tepsilon:0.11003\n",
      "16: mean reward:61.760\tepsilon:0.10453\n",
      "17: mean reward:76.250\tepsilon:0.09930\n",
      "18: mean reward:131.920\tepsilon:0.09434\n",
      "19: mean reward:85.730\tepsilon:0.08962\n",
      "20: mean reward:99.740\tepsilon:0.08514\n",
      "21: mean reward:144.220\tepsilon:0.08088\n",
      "22: mean reward:12.180\tepsilon:0.07684\n",
      "23: mean reward:37.100\tepsilon:0.07300\n",
      "24: mean reward:214.280\tepsilon:0.06935\n",
      "25: mean reward:228.480\tepsilon:0.06588\n",
      "26: mean reward:189.740\tepsilon:0.06259\n",
      "27: mean reward:212.960\tepsilon:0.05946\n",
      "28: mean reward:298.100\tepsilon:0.05648\n",
      "29: mean reward:316.030\tepsilon:0.05366\n",
      "You Win!\n"
     ]
    }
   ],
   "source": [
    "for i in range(100):   \n",
    "    rewards = [generate_session() for _ in range(100)] #generate new sessions\n",
    "    \n",
    "    epsilon*=0.95\n",
    "    \n",
    "    print (\"%d: mean reward:%.3f\\tepsilon:%.5f\"%(i, np.mean(rewards),epsilon))\n",
    "\n",
    "    if np.mean(rewards) > 300:\n",
    "        print (\"You Win!\")\n",
    "        break\n",
    "        \n",
    "    assert epsilon!=0, \"Please explore environment\""
   ]
  },
  {
   "cell_type": "markdown",
   "metadata": {},
   "source": [
    "### Video"
   ]
  },
  {
   "cell_type": "code",
   "execution_count": null,
   "metadata": {
    "collapsed": true
   },
   "outputs": [],
   "source": [
    "epsilon=0 #Don't forget to reset epsilon back to initial value if you want to go on training"
   ]
  },
  {
   "cell_type": "code",
   "execution_count": null,
   "metadata": {
    "collapsed": true
   },
   "outputs": [],
   "source": [
    "#record sessions\n",
    "import gym.wrappers\n",
    "env = gym.wrappers.Monitor(env,directory=\"videos\",force=True)\n",
    "sessions = [generate_session() for _ in range(100)]\n",
    "env.close()\n",
    "#unwrap \n",
    "env = env.env.env\n",
    "#upload to gym\n",
    "#gym.upload(\"./videos/\",api_key=\"<your_api_key>\") #you'll need me later\n",
    "\n",
    "#Warning! If you keep seeing error that reads something like\"DoubleWrapError\",\n",
    "#run env=gym.make(\"CartPole-v0\");env.reset();"
   ]
  },
  {
   "cell_type": "code",
   "execution_count": null,
   "metadata": {
    "collapsed": true
   },
   "outputs": [],
   "source": [
    "#show video\n",
    "from IPython.display import HTML\n",
    "import os\n",
    "\n",
    "video_names = list(filter(lambda s:s.endswith(\".mp4\"),os.listdir(\"./videos/\")))\n",
    "\n",
    "HTML(\"\"\"\n",
    "<video width=\"640\" height=\"480\" controls>\n",
    "  <source src=\"{}\" type=\"video/mp4\">\n",
    "</video>\n",
    "\"\"\".format(\"./videos/\"+video_names[-1])) #this may or may not be _last_ video. Try other indices"
   ]
  },
  {
   "cell_type": "code",
   "execution_count": null,
   "metadata": {
    "collapsed": true
   },
   "outputs": [],
   "source": []
  }
 ],
 "metadata": {
  "kernelspec": {
   "display_name": "Python 3",
   "language": "python",
   "name": "python3"
  },
  "language_info": {
   "codemirror_mode": {
    "name": "ipython",
    "version": 3
   },
   "file_extension": ".py",
   "mimetype": "text/x-python",
   "name": "python",
   "nbconvert_exporter": "python",
   "pygments_lexer": "ipython3",
   "version": "3.5.3"
  }
 },
 "nbformat": 4,
 "nbformat_minor": 1
}
