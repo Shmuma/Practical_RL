{
 "cells": [
  {
   "cell_type": "markdown",
   "metadata": {},
   "source": [
    "# Approximate q-learning\n",
    "\n",
    "In this notebook you will teach a lasagne neural network to do Q-learning."
   ]
  },
  {
   "cell_type": "markdown",
   "metadata": {},
   "source": [
    "__Frameworks__ - we'll accept this homework in any deep learning framework. For example, it translates to TensorFlow almost line-to-line. However, we recommend you to stick to theano/lasagne unless you're certain about your skills in the framework of your choice."
   ]
  },
  {
   "cell_type": "code",
   "execution_count": 1,
   "metadata": {
    "collapsed": true
   },
   "outputs": [],
   "source": [
    "import torch\n",
    "import torch.nn as nn\n",
    "import torch.nn.functional as F\n",
    "import torch.optim as optim\n",
    "from torch.autograd import Variable"
   ]
  },
  {
   "cell_type": "code",
   "execution_count": 2,
   "metadata": {
    "collapsed": true
   },
   "outputs": [],
   "source": [
    "import gym\n",
    "import numpy as np, pandas as pd\n",
    "import matplotlib.pyplot as plt\n",
    "%matplotlib inline"
   ]
  },
  {
   "cell_type": "code",
   "execution_count": 4,
   "metadata": {},
   "outputs": [],
   "source": [
    "from pycrayon import CrayonClient\n",
    "client = CrayonClient(hostname='localhost')\n",
    "crayon = client.create_experiment('pytorch-3')"
   ]
  },
  {
   "cell_type": "code",
   "execution_count": 5,
   "metadata": {
    "scrolled": false
   },
   "outputs": [
    {
     "name": "stderr",
     "output_type": "stream",
     "text": [
      "[2017-04-21 16:49:07,142] Making new env: CartPole-v0\n"
     ]
    }
   ],
   "source": [
    "env = gym.make(\"CartPole-v0\").env\n",
    "env.reset()\n",
    "n_actions = env.action_space.n\n",
    "state_dim = env.observation_space.shape\n",
    "\n",
    "#plt.imshow(env.render(\"rgb_array\"))"
   ]
  },
  {
   "cell_type": "code",
   "execution_count": 6,
   "metadata": {
    "collapsed": true
   },
   "outputs": [],
   "source": [
    "CUDA = True\n",
    "batch_size = 4\n",
    "L1_size = 50\n",
    "\n",
    "gamma = 0.99"
   ]
  },
  {
   "cell_type": "code",
   "execution_count": 7,
   "metadata": {},
   "outputs": [
    {
     "name": "stdout",
     "output_type": "stream",
     "text": [
      "n_actions=2, state_dim=(4,)\n"
     ]
    }
   ],
   "source": [
    "print(\"n_actions={}, state_dim={}\".format(n_actions, state_dim))"
   ]
  },
  {
   "cell_type": "markdown",
   "metadata": {},
   "source": [
    "# Approximate (deep) Q-learning: building the network\n",
    "\n",
    "In this section we will build and train naive Q-learning with theano/lasagne"
   ]
  },
  {
   "cell_type": "markdown",
   "metadata": {},
   "source": [
    "First step is initializing input variables"
   ]
  },
  {
   "cell_type": "code",
   "execution_count": 8,
   "metadata": {
    "collapsed": true
   },
   "outputs": [],
   "source": [
    "class Net(nn.Module):\n",
    "    def __init__(self):\n",
    "        super(Net, self).__init__()\n",
    "        self.fc_1 = nn.Linear(int(np.prod(state_dim)), L1_size)\n",
    "        self.fc_out = nn.Linear(L1_size, n_actions)\n",
    "        \n",
    "    def forward(self, x):\n",
    "        x = F.relu(self.fc_1(x))\n",
    "        x = self.fc_out(x)\n",
    "        return x"
   ]
  },
  {
   "cell_type": "code",
   "execution_count": 9,
   "metadata": {},
   "outputs": [
    {
     "name": "stdout",
     "output_type": "stream",
     "text": [
      "Net (\n",
      "  (fc_1): Linear (4 -> 50)\n",
      "  (fc_out): Linear (50 -> 2)\n",
      ")\n"
     ]
    }
   ],
   "source": [
    "model = Net()\n",
    "if CUDA:\n",
    "    model.cuda()\n",
    "print(model)"
   ]
  },
  {
   "cell_type": "code",
   "execution_count": 10,
   "metadata": {
    "collapsed": true
   },
   "outputs": [],
   "source": [
    "def states_to_var(s):\n",
    "    return Variable(torch.from_numpy(np.array(s, dtype=np.float32)), volatile=False)"
   ]
  },
  {
   "cell_type": "code",
   "execution_count": 11,
   "metadata": {
    "collapsed": true
   },
   "outputs": [],
   "source": [
    "optimizer = optim.Adam(model.parameters(), lr=0.0005)"
   ]
  },
  {
   "cell_type": "markdown",
   "metadata": {},
   "source": [
    "### Playing the game"
   ]
  },
  {
   "cell_type": "code",
   "execution_count": 12,
   "metadata": {
    "collapsed": true
   },
   "outputs": [],
   "source": [
    "def choose_action(q_values, epsilon):\n",
    "    if np.random.rand() < epsilon:\n",
    "        return torch.LongTensor([np.random.choice(n_actions)])\n",
    "    else:\n",
    "        return q_values.max(dim=1)[1].data[0]"
   ]
  },
  {
   "cell_type": "code",
   "execution_count": 17,
   "metadata": {
    "collapsed": true
   },
   "outputs": [],
   "source": [
    "epsilon = 0.25 #initial epsilon\n",
    "\n",
    "def generate_session(t_max=1000):\n",
    "    \"\"\"play env with approximate q-learning agent and train it at the same time\"\"\"\n",
    "    \n",
    "    total_reward = 0\n",
    "    s = env.reset()\n",
    "    losses = []\n",
    "    q_values = []\n",
    "    \n",
    "    for t in range(t_max):  \n",
    "        in_state = states_to_var([s])\n",
    "        if CUDA:\n",
    "            in_state = in_state.cuda()\n",
    "        q = model(in_state)\n",
    "        a = choose_action(q, epsilon).cpu()[0]\n",
    "        new_s,r,done,info = env.step(a)\n",
    "        \n",
    "        optimizer.zero_grad()\n",
    "        \n",
    "        in_state = states_to_var([new_s])\n",
    "        if CUDA:\n",
    "            in_state = in_state.cuda()\n",
    "        new_q = model(in_state).detach()\n",
    "        chosen_q = q[:, a]\n",
    "        if done:\n",
    "            valid_q = r\n",
    "        else:\n",
    "            valid_q = r + gamma * new_q.max(dim=1)[0]        \n",
    "        loss = (valid_q - chosen_q)**2\n",
    "        \n",
    "        loss.backward()\n",
    "        optimizer.step()\n",
    "        losses.append(loss.data.cpu().numpy()[0])\n",
    "        q_values.append(q.mean().data.cpu()[0])\n",
    "        \n",
    "        total_reward+=r\n",
    "        \n",
    "        s = new_s\n",
    "        if done: break\n",
    "       \n",
    "    crayon.add_scalar_value(\"q_mean\", float(np.mean(q_values)))\n",
    "    crayon.add_scalar_value(\"reward\", total_reward)\n",
    "    crayon.add_scalar_value(\"loss\", float(np.mean(losses)))\n",
    "            \n",
    "    return total_reward\n",
    "        "
   ]
  },
  {
   "cell_type": "code",
   "execution_count": 18,
   "metadata": {},
   "outputs": [
    {
     "name": "stdout",
     "output_type": "stream",
     "text": [
      "0: mean reward:11.070\tepsilon:0.23750\n",
      "1: mean reward:10.490\tepsilon:0.22562\n",
      "2: mean reward:10.960\tepsilon:0.21434\n",
      "3: mean reward:12.970\tepsilon:0.20363\n",
      "4: mean reward:15.120\tepsilon:0.19345\n",
      "5: mean reward:12.600\tepsilon:0.18377\n",
      "6: mean reward:12.360\tepsilon:0.17458\n",
      "7: mean reward:17.460\tepsilon:0.16586\n",
      "8: mean reward:11.340\tepsilon:0.15756\n",
      "9: mean reward:20.260\tepsilon:0.14968\n",
      "10: mean reward:17.560\tepsilon:0.14220\n",
      "11: mean reward:21.050\tepsilon:0.13509\n",
      "12: mean reward:20.510\tepsilon:0.12834\n",
      "13: mean reward:21.100\tepsilon:0.12192\n",
      "14: mean reward:27.650\tepsilon:0.11582\n",
      "15: mean reward:37.940\tepsilon:0.11003\n",
      "16: mean reward:42.640\tepsilon:0.10453\n",
      "17: mean reward:57.300\tepsilon:0.09930\n",
      "18: mean reward:81.880\tepsilon:0.09434\n",
      "19: mean reward:96.530\tepsilon:0.08962\n",
      "20: mean reward:71.350\tepsilon:0.08514\n",
      "21: mean reward:44.630\tepsilon:0.08088\n",
      "22: mean reward:135.510\tepsilon:0.07684\n",
      "23: mean reward:113.680\tepsilon:0.07300\n",
      "24: mean reward:112.680\tepsilon:0.06935\n",
      "25: mean reward:104.170\tepsilon:0.06588\n",
      "26: mean reward:113.270\tepsilon:0.06259\n",
      "27: mean reward:215.460\tepsilon:0.05946\n",
      "28: mean reward:220.350\tepsilon:0.05648\n",
      "29: mean reward:20.430\tepsilon:0.05366\n",
      "30: mean reward:53.810\tepsilon:0.05098\n",
      "31: mean reward:168.640\tepsilon:0.04843\n",
      "32: mean reward:226.820\tepsilon:0.04601\n",
      "33: mean reward:181.440\tepsilon:0.04371\n",
      "34: mean reward:16.680\tepsilon:0.04152\n",
      "35: mean reward:143.190\tepsilon:0.03944\n",
      "36: mean reward:254.720\tepsilon:0.03747\n",
      "37: mean reward:266.980\tepsilon:0.03560\n",
      "38: mean reward:246.720\tepsilon:0.03382\n",
      "39: mean reward:235.880\tepsilon:0.03213\n",
      "40: mean reward:70.540\tepsilon:0.03052\n",
      "41: mean reward:312.980\tepsilon:0.02900\n",
      "You Win!\n"
     ]
    }
   ],
   "source": [
    "for i in range(100):\n",
    "    \n",
    "    rewards = [generate_session() for _ in range(100)] #generate new sessions\n",
    "    \n",
    "    epsilon*=0.95\n",
    "    \n",
    "    print (\"%d: mean reward:%.3f\\tepsilon:%.5f\"%(i, np.mean(rewards),epsilon))\n",
    "\n",
    "    if np.mean(rewards) > 300:\n",
    "        print (\"You Win!\")\n",
    "        break\n",
    "        \n",
    "    assert epsilon!=0, \"Please explore environment\""
   ]
  },
  {
   "cell_type": "markdown",
   "metadata": {},
   "source": [
    "### Video"
   ]
  },
  {
   "cell_type": "code",
   "execution_count": null,
   "metadata": {
    "collapsed": true
   },
   "outputs": [],
   "source": [
    "epsilon=0 #Don't forget to reset epsilon back to initial value if you want to go on training"
   ]
  },
  {
   "cell_type": "code",
   "execution_count": null,
   "metadata": {
    "collapsed": true
   },
   "outputs": [],
   "source": [
    "#record sessions\n",
    "import gym.wrappers\n",
    "env = gym.wrappers.Monitor(env,directory=\"videos\",force=True)\n",
    "sessions = [generate_session() for _ in range(100)]\n",
    "env.close()\n",
    "#unwrap \n",
    "env = env.env.env\n",
    "#upload to gym\n",
    "#gym.upload(\"./videos/\",api_key=\"<your_api_key>\") #you'll need me later\n",
    "\n",
    "#Warning! If you keep seeing error that reads something like\"DoubleWrapError\",\n",
    "#run env=gym.make(\"CartPole-v0\");env.reset();"
   ]
  },
  {
   "cell_type": "code",
   "execution_count": null,
   "metadata": {
    "collapsed": true
   },
   "outputs": [],
   "source": [
    "#show video\n",
    "from IPython.display import HTML\n",
    "import os\n",
    "\n",
    "video_names = list(filter(lambda s:s.endswith(\".mp4\"),os.listdir(\"./videos/\")))\n",
    "\n",
    "HTML(\"\"\"\n",
    "<video width=\"640\" height=\"480\" controls>\n",
    "  <source src=\"{}\" type=\"video/mp4\">\n",
    "</video>\n",
    "\"\"\".format(\"./videos/\"+video_names[-1])) #this may or may not be _last_ video. Try other indices"
   ]
  },
  {
   "cell_type": "code",
   "execution_count": null,
   "metadata": {
    "collapsed": true
   },
   "outputs": [],
   "source": []
  }
 ],
 "metadata": {
  "kernelspec": {
   "display_name": "Python 3",
   "language": "python",
   "name": "python3"
  },
  "language_info": {
   "codemirror_mode": {
    "name": "ipython",
    "version": 3
   },
   "file_extension": ".py",
   "mimetype": "text/x-python",
   "name": "python",
   "nbconvert_exporter": "python",
   "pygments_lexer": "ipython3",
   "version": "3.5.3"
  }
 },
 "nbformat": 4,
 "nbformat_minor": 1
}
